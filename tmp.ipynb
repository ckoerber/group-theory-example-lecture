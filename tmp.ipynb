{
 "cells": [
  {
   "cell_type": "code",
   "execution_count": 1,
   "id": "e5fb2201",
   "metadata": {},
   "outputs": [],
   "source": [
    "import os"
   ]
  },
  {
   "cell_type": "code",
   "execution_count": 5,
   "id": "1d2b01ee",
   "metadata": {},
   "outputs": [],
   "source": [
    "folder = os.path.join(\"media\", \"audio\", \"main\")\n",
    "files = os.listdir(folder)"
   ]
  },
  {
   "cell_type": "code",
   "execution_count": null,
   "id": "694f872c",
   "metadata": {},
   "outputs": [],
   "source": [
    "i = f.split(\".\")"
   ]
  },
  {
   "cell_type": "code",
   "execution_count": 6,
   "id": "bf154d48",
   "metadata": {},
   "outputs": [
    {
     "data": {
      "text/plain": [
       "['1.2.2.mp3',\n",
       " '2.4.0.mp3',\n",
       " '0.0.mp3',\n",
       " '3.1.2.mp3',\n",
       " '2.1.2.mp3',\n",
       " '2.4.1.mp3',\n",
       " '1.1.2.mp3',\n",
       " '2.5.0.mp3',\n",
       " '2.5.1.mp3',\n",
       " '1.0.mp3',\n",
       " '3.2.mp3',\n",
       " '2.4.mp3',\n",
       " '2.1.0.mp3',\n",
       " '3.2.6.mp3',\n",
       " '2.2.1.mp3',\n",
       " '2.1.mp3',\n",
       " '2.5.3.mp3',\n",
       " '3.2.4.mp3',\n",
       " '3.2.7.mp3',\n",
       " '2.1.1.mp3',\n",
       " '3.2.2.mp3',\n",
       " '4.1.mp3',\n",
       " '3.2.8.mp3',\n",
       " '2.6.mp3',\n",
       " '2.3.mp3',\n",
       " '2.2.mp3',\n",
       " '3.1.0.mp3',\n",
       " '1.2.0.mp3',\n",
       " '2.3.2.mp3',\n",
       " '3.2.3.mp3',\n",
       " '3.2.10.mp3',\n",
       " '3.0.mp3',\n",
       " '1.2.1.mp3',\n",
       " '3.1.mp3',\n",
       " '1.1.mp3',\n",
       " '2.5.2.mp3',\n",
       " '4.1.0.mp3',\n",
       " '3.2.5.mp3',\n",
       " '4.1.1.mp3',\n",
       " '2.3.0.mp3',\n",
       " '4.0.mp3',\n",
       " '2.4.2.mp3',\n",
       " '1.2.mp3',\n",
       " '2.2.2.mp3',\n",
       " '2.2.0.mp3',\n",
       " '2.5.mp3',\n",
       " '3.1.1.mp3',\n",
       " '2.0.mp3',\n",
       " '3.2.9.mp3',\n",
       " '3.2.0.mp3',\n",
       " '2.3.1.mp3',\n",
       " '3.2.1.mp3',\n",
       " '1.1.0.mp3',\n",
       " '1.1.1.mp3']"
      ]
     },
     "execution_count": 6,
     "metadata": {},
     "output_type": "execute_result"
    }
   ],
   "source": [
    "for f in files:\n",
    "    os.rename(os.path.join(folder, f), os.path.join(folder, fnew))"
   ]
  },
  {
   "cell_type": "code",
   "execution_count": null,
   "id": "055ccd1c",
   "metadata": {},
   "outputs": [],
   "source": []
  }
 ],
 "metadata": {
  "kernelspec": {
   "display_name": "Python 3 (ipykernel)",
   "language": "python",
   "name": "python3"
  },
  "language_info": {
   "codemirror_mode": {
    "name": "ipython",
    "version": 3
   },
   "file_extension": ".py",
   "mimetype": "text/x-python",
   "name": "python",
   "nbconvert_exporter": "python",
   "pygments_lexer": "ipython3",
   "version": "3.9.5"
  }
 },
 "nbformat": 4,
 "nbformat_minor": 5
}
