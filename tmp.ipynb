{
 "cells": [
  {
   "cell_type": "code",
   "execution_count": 1,
   "id": "7d137099",
   "metadata": {},
   "outputs": [],
   "source": [
    "import os"
   ]
  },
  {
   "cell_type": "code",
   "execution_count": 14,
   "id": "18213d0f",
   "metadata": {},
   "outputs": [],
   "source": [
    "folder = os.path.join(\"media\", \"audio\", \"main\")\n",
    "files = sorted(os.listdir(folder))"
   ]
  },
  {
   "cell_type": "code",
   "execution_count": 7,
   "id": "561aa720",
   "metadata": {},
   "outputs": [],
   "source": [
    "f = files[0]"
   ]
  },
  {
   "cell_type": "code",
   "execution_count": 11,
   "id": "0b6adc36",
   "metadata": {},
   "outputs": [
    {
     "data": {
      "text/plain": [
       "('1.2.2.mp3', '2.2.2.mp3')"
      ]
     },
     "execution_count": 11,
     "metadata": {},
     "output_type": "execute_result"
    }
   ],
   "source": [
    "split = f.split(\".\")\n",
    "r = \".\".join(split[1:])\n",
    "f_new = f\"{int(split[0])+1}.{r}\"\n",
    "f, f_new"
   ]
  },
  {
   "cell_type": "code",
   "execution_count": 15,
   "id": "54167cf1",
   "metadata": {},
   "outputs": [],
   "source": [
    "for f in files[::-1]:\n",
    "    split = f.split(\".\")\n",
    "    r = \".\".join(split[1:])\n",
    "    f_new = f\"n{int(split[0])+1}.{r}\"\n",
    "    f, f_new\n",
    "    os.rename(os.path.join(folder, f), os.path.join(folder, f_new))"
   ]
  },
  {
   "cell_type": "code",
   "execution_count": null,
   "id": "90f27e3f",
   "metadata": {},
   "outputs": [],
   "source": []
  }
 ],
 "metadata": {
  "kernelspec": {
   "display_name": "Python 3 (ipykernel)",
   "language": "python",
   "name": "python3"
  },
  "language_info": {
   "codemirror_mode": {
    "name": "ipython",
    "version": 3
   },
   "file_extension": ".py",
   "mimetype": "text/x-python",
   "name": "python",
   "nbconvert_exporter": "python",
   "pygments_lexer": "ipython3",
   "version": "3.9.5"
  }
 },
 "nbformat": 4,
 "nbformat_minor": 5
}
